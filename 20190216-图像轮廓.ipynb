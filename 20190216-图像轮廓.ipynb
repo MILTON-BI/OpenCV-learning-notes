{
 "cells": [
  {
   "cell_type": "markdown",
   "metadata": {},
   "source": [
    "# 图像轮廓\n",
    "\n",
    "- 什么是图像轮廓\n",
    "    - 边缘检测能够检测出图像边缘，但边缘是不连续的\n",
    "    - 将边缘连接为一个整体，就构成轮廓\n",
    "- 注意问题：\n",
    "    - 轮廓处理的图像需要是二值图像，所以需要先进行阈值分割或边缘检测处理\n",
    "    - 查找轮廓需要更改原始图像，因此通常使用原始图像的拷贝进行操作\n",
    "    - 在opencv中，是从黑色背景中查找白色对象，因此，对象必须是白色的，背景必须是黑色的\n",
    "    \n",
    "- 使用的函数\n",
    "    - cv2.findContours(): 查找图像的轮廓，返回图像的轮廓信息\n",
    "        - 语法：img, contours, hierarchy = cv2.findContours(image, mode, method)\n",
    "            - 返回值\n",
    "                - image: 是修改(进行二值化处理）后的原始图像\n",
    "                - contours: 轮廓\n",
    "                - hierarchy: 图像的拓扑信息（轮廓的层次）\n",
    "            - 参数\n",
    "                - image: 原始图像\n",
    "                - mode: 轮廓的检索模式\n",
    "                    - cv2.RETR_EXTERNAL: 表示只检测外轮廓\n",
    "                    - cv2.RETR_LIST: 检测的轮廓不建立等级关系\n",
    "                    - cv2.RETR_CCOMP: 建立两个等级的轮廓，上面一层为外边界，里面一层为内孔的边界信息。\n",
    "                        - 如果孔内还有一个联通的物体，这个物体的边界也在上面一层\n",
    "                    - cv2.RETR_TREE: 建立一个等级树结构的轮廓，一般是使用等级树的检索模式\n",
    "                - method: 轮廓的近似方法\n",
    "                    - cv2.CHAIN_APPROX_NONE: 存储所有的轮廓点，相邻的两个点的像素位置差不超过1\n",
    "                        - 即max(abs(x1-x2), abs(y2-y1)) == 1\n",
    "                    - cv2.CHAIN_APPROX_SIMPLE: 压缩水平方向，垂直方向和对角线方向的元素，只保留该方向的终点坐标\n",
    "                        - 例如一个矩形轮廓只需4个点来保存轮廓信息\n",
    "                    - cv2.CHAIN_APPROX_TC89_L1: 使用teh-chinl chain的一种近似算法\n",
    "                    - cv2.CHAIN_APPROX_TC89_KCOS: 使用teh-chinl chain的一种近似算法\n",
    "                    \n",
    "    - cv2.drawContours()：绘制图像的轮廓，它的输入是findContours的返回值\n",
    "        - 语法：r = cv2.drawContours(o, contours, contourIdx, color [, thickness])\n",
    "            - 返回值：\n",
    "                - r： 目标图像，直接修改目标的像素点，实现绘制\n",
    "            - 参数：\n",
    "                - o: 原始图像\n",
    "                - contours: 需要绘制的边缘数组，是findContours函数的返回值之一\n",
    "                - contoursIdx: 需要绘制的边缘索引（如果想绘制第一个轮廓则该参数为0，一次类推），如果要绘制所有轮廓则该参数为-1\n",
    "                - color: 绘制的颜色，为BGR格式的标量Scalar（一般表示(b,g,r), b,g,r取值都在0-255之间）\n",
    "                - thickness: 可选参数，绘制的密度，即描绘轮廓时所用的画笔粗细，以像素值为单位(=8表示画笔粗细为8像素)"
   ]
  },
  {
   "cell_type": "code",
   "execution_count": 13,
   "metadata": {},
   "outputs": [
    {
     "name": "stdout",
     "output_type": "stream",
     "text": [
      "127.0\n",
      "[[[ 1 -1 -1 -1]\n",
      "  [ 2  0 -1 -1]\n",
      "  [-1  1 -1 -1]]]\n"
     ]
    }
   ],
   "source": [
    "import cv2\n",
    "import numpy as np\n",
    "\n",
    "o = cv2.imread('image/contours.bmp')\n",
    "\n",
    "# 先将BGR图像调整为灰度图像\n",
    "gray = cv2.cvtColor(o, cv2.COLOR_BGR2GRAY)\n",
    "\n",
    "# 对灰度图像使用阈值处理的方式，转换成二值图像，返回值为binary\n",
    "ret, binary = cv2.threshold(gray, 127, 255, cv2.THRESH_BINARY)\n",
    "print(ret)   # 127.0\n",
    "\n",
    "# 检索轮廓\n",
    "contours, hierarchy = cv2.findContours(binary, \n",
    "                                       cv2.RETR_TREE, \n",
    "                                       cv2.CHAIN_APPROX_SIMPLE)\n",
    "print(hierarchy)   # 三组轮廓边缘数组值\n",
    "#  [[[ 1 -1 -1 -1]\n",
    "#    [ 2  0 -1 -1]\n",
    "#    [-1  1 -1 -1]]]\n",
    "\n",
    "# 绘制轮廓\n",
    "# 先复制原始图像\n",
    "co = o.copy()\n",
    "# 对复制后的原始图像进行绘制\n",
    "r = cv2.drawContours(co, contours, -1, (0, 0, 255), 8)\n",
    "\n",
    "# 显示图像\n",
    "cv2.imshow('original', o)\n",
    "# cv2.imshow('gray', gray)\n",
    "# cv2.imshow('two', binary)\n",
    "cv2.imshow('result', r)\n",
    "cv2.waitKey()\n",
    "cv2.destroyAllWindows()"
   ]
  },
  {
   "cell_type": "code",
   "execution_count": null,
   "metadata": {},
   "outputs": [],
   "source": []
  }
 ],
 "metadata": {
  "kernelspec": {
   "display_name": "Python 3",
   "language": "python",
   "name": "python3"
  },
  "language_info": {
   "codemirror_mode": {
    "name": "ipython",
    "version": 3
   },
   "file_extension": ".py",
   "mimetype": "text/x-python",
   "name": "python",
   "nbconvert_exporter": "python",
   "pygments_lexer": "ipython3",
   "version": "3.6.5"
  }
 },
 "nbformat": 4,
 "nbformat_minor": 2
}
