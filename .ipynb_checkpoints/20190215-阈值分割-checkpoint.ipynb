{
 "cells": [
  {
   "cell_type": "markdown",
   "metadata": {},
   "source": [
    "## 1. 阈值分割的基础知识（五种处理方式）\n",
    "\n",
    "- 二进制阈值化(二值阈值化)cv2.IMREAD_UNCHANGED\n",
    "    - 先选定一个特定的阈值量（像素值），如127\n",
    "    - 新阈值的产生规则为\n",
    "        - 大于等于127的像素点的灰度值设定为最大值（如8位灰度值最大为255）\n",
    "        - 灰度值小于127的像素点的灰度值设定为0\n",
    "- 反二进制阈值化：与二进制阈值化相似（但相反）cv2.IMREAD_UNCHANGED_INV\n",
    "    - 先选定一个特定的阈值量（像素值），如127\n",
    "    - 新阈值的产生规则为\n",
    "        - 大于阈值的设定为0\n",
    "        - 小于改阈值的设定为255\n",
    "- 截断阈值化\n",
    "    - 首先选定一个阈值\n",
    "    - 图像中大于该阈值的像素点设定为该阈值，小于该阈值的点保持不变\n",
    "- 阈值化为0\n",
    "    - 先选定一个阈值\n",
    "    - 大于该阈值的像素点保持不变\n",
    "    - 小于等于该阈值的像素点处理为0\n",
    "- 反阈值化为0（阈值化为0的反向操作）\n",
    "    - 先选定一个阈值\n",
    "    - 大于等于该阈值的像素点处理为0\n",
    "    - 小于该阈值的像素点保持不变"
   ]
  },
  {
   "cell_type": "markdown",
   "metadata": {},
   "source": [
    "## 2. threshold函数及实现\n",
    "\n",
    "- 语法：retval, dst = cv2.threshold(src, thresh, maxval, type)\n",
    "    - 返回值\n",
    "        - retval,阈值\n",
    "        - dst, 处理结果        \n",
    "    - 参数\n",
    "        - src, 源图像\n",
    "        - thresh, 进行阈值分割时要使用的阈值，一般情况指定128\n",
    "        - maxval, 进行阈值分割后使用的最大值，一般情况指定255或1\n",
    "        - type,类型，指进行的是哪一种类型的阈值分割"
   ]
  },
  {
   "cell_type": "code",
   "execution_count": 6,
   "metadata": {},
   "outputs": [
    {
     "name": "stdout",
     "output_type": "stream",
     "text": [
      "(512, 512)\n"
     ]
    }
   ],
   "source": [
    "# 二进制阈值化 cv2.THRESH_BINARY\n",
    "import cv2\n",
    "a = cv2.imread('image/lena512.bmp', cv2.IMREAD_UNCHANGED)\n",
    "print(a.shape)\n",
    "r, b = cv2.threshold(a, 127, 255, cv2.THRESH_BINARY)\n",
    "\n",
    "cv2.imshow('a', a)\n",
    "cv2.imshow('b', b)\n",
    "cv2.waitKey()\n",
    "cv2.destroyAllWindows()"
   ]
  },
  {
   "cell_type": "code",
   "execution_count": 7,
   "metadata": {},
   "outputs": [
    {
     "name": "stdout",
     "output_type": "stream",
     "text": [
      "(512, 512)\n"
     ]
    }
   ],
   "source": [
    "# 反二进制阈值化 cv2.THRESH_BINARY_INV\n",
    "import cv2\n",
    "a = cv2.imread('image/lena512.bmp', cv2.IMREAD_UNCHANGED)\n",
    "print(a.shape)\n",
    "r, b = cv2.threshold(a, 127, 255, cv2.THRESH_BINARY_INV)\n",
    "\n",
    "cv2.imshow('a', a)\n",
    "cv2.imshow('b', b)\n",
    "cv2.waitKey()\n",
    "cv2.destroyAllWindows()"
   ]
  },
  {
   "cell_type": "code",
   "execution_count": 9,
   "metadata": {},
   "outputs": [
    {
     "name": "stdout",
     "output_type": "stream",
     "text": [
      "(512, 512, 3)\n"
     ]
    }
   ],
   "source": [
    "# 截断阈值化 cv2.THRESH_TRUNC\n",
    "import cv2\n",
    "a = cv2.imread('image/lenacolor.png', cv2.IMREAD_UNCHANGED)\n",
    "print(a.shape)\n",
    "r, b = cv2.threshold(a, 127, 255, cv2.THRESH_TRUNC)\n",
    "\n",
    "cv2.imshow('a', a)\n",
    "cv2.imshow('b', b)\n",
    "cv2.waitKey()\n",
    "cv2.destroyAllWindows()"
   ]
  },
  {
   "cell_type": "code",
   "execution_count": 13,
   "metadata": {},
   "outputs": [
    {
     "name": "stdout",
     "output_type": "stream",
     "text": [
      "(512, 512, 3)\n",
      "127.0\n"
     ]
    }
   ],
   "source": [
    "# 反阈值化为0 cv2.THRESH_TOZERO_INV\n",
    "import cv2\n",
    "a = cv2.imread('image/lenacolor.png', cv2.IMREAD_UNCHANGED)\n",
    "print(a.shape)\n",
    "r, b = cv2.threshold(a, 127, 255, cv2.THRESH_TOZERO_INV)\n",
    "print(r)\n",
    "\n",
    "cv2.imshow('a', a)\n",
    "cv2.imshow('b', b)\n",
    "cv2.waitKey()\n",
    "cv2.destroyAllWindows()"
   ]
  },
  {
   "cell_type": "code",
   "execution_count": 11,
   "metadata": {},
   "outputs": [
    {
     "name": "stdout",
     "output_type": "stream",
     "text": [
      "(512, 512, 3)\n"
     ]
    }
   ],
   "source": [
    "# 阈值化为0 cv2.THRESH_TOZERO\n",
    "import cv2\n",
    "a = cv2.imread('image/lenacolor.png', cv2.IMREAD_UNCHANGED)\n",
    "print(a.shape)\n",
    "r, b = cv2.threshold(a, 127, 255, cv2.THRESH_TOZERO)\n",
    "\n",
    "cv2.imshow('a', a)\n",
    "cv2.imshow('b', b)\n",
    "cv2.waitKey()\n",
    "cv2.destroyAllWindows()"
   ]
  }
 ],
 "metadata": {
  "kernelspec": {
   "display_name": "Python 3",
   "language": "python",
   "name": "python3"
  },
  "language_info": {
   "codemirror_mode": {
    "name": "ipython",
    "version": 3
   },
   "file_extension": ".py",
   "mimetype": "text/x-python",
   "name": "python",
   "nbconvert_exporter": "python",
   "pygments_lexer": "ipython3",
   "version": "3.6.5"
  }
 },
 "nbformat": 4,
 "nbformat_minor": 2
}
