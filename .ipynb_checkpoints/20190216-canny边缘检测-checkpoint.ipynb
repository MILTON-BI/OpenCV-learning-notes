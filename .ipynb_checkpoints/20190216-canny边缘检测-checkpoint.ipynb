{
 "cells": [
  {
   "cell_type": "markdown",
   "metadata": {},
   "source": [
    "# 边缘检测canny\n",
    "\n",
    "## 1. canny边缘检测原理\n",
    "\n",
    "- canny边缘检测的一般步骤\n",
    "    - 去噪\n",
    "        - 边缘检测容易受到噪声的影响，因此在进行边缘检测前通常需要先进行去躁处理\n",
    "        - 通常采用高斯滤波\n",
    "    - 计算梯度的大小和方向\n",
    "        - 对去躁后的图像采用sobel算子计算梯度大小和方向\n",
    "            - 计算大小的方法与前面sobel算法的计算方法一样：G = sqrt(Gx^2, Gy^2) 或 |Gy| + |Gx|\n",
    "            - 计算方向：Angel(θ)= arctan(Gy/Gx)\n",
    "                - 梯度的方向一般总是与边界垂直\n",
    "                - 梯度方向可归为四类：垂直(向上和向下)、水平（向左和向右）和两个对角线方向\n",
    "    - 非极大值抑制\n",
    "        - 获得了梯度和方向后，遍历图像，去除所有不是边界的点\n",
    "        - 实现方法：逐个遍历像素点，判断当前像素点的值是否是周围像素点中具有相同方向梯度的最大值\n",
    "            - 如果是最大值则保留\n",
    "            - 如果不是则处理为0，即被抑制了\n",
    "    - 滞后阈值\n",
    "        - 取两个阈值：maxval和minval\n",
    "        - 梯度值>maxval,边界\n",
    "        - 如果minval<梯度值<maxval\n",
    "            - 与边界相连，保留；\n",
    "            - 与边界不相连，抛弃        \n",
    "        - 梯度值<minval, 抛弃"
   ]
  },
  {
   "cell_type": "code",
   "execution_count": 2,
   "metadata": {},
   "outputs": [],
   "source": [
    "import cv2\n",
    "import numpy as np"
   ]
  },
  {
   "cell_type": "markdown",
   "metadata": {},
   "source": [
    "## 2. canny函数及使用方法\n",
    "\n",
    "- 语法：edges = cv2.Canny(img, threshold1, threshold2)\n",
    "    - 返回值：edges, 边界图像\n",
    "    - img: 原始图像\n",
    "    - threshold1: 阈值1，即minval，极小值；threshold2: 阈值2, 即maxval，极大值\n",
    "        - 这两个阈值是用来控制边界信息的丰富程度的，这两个阈值越小则得到的边界信息越丰富，越大则得到的边界信息越少"
   ]
  },
  {
   "cell_type": "code",
   "execution_count": 3,
   "metadata": {},
   "outputs": [],
   "source": [
    "\n",
    "o = cv2.imread('image/addd/canny.bmp', cv2.IMREAD_GRAYSCALE)\n",
    "r = cv2.Canny(o, 100, 200)\n",
    "\n",
    "cv2.imshow('original', o)\n",
    "cv2.imshow('result', r)\n",
    "cv2.waitKey()\n",
    "cv2.destroyAllWindows()"
   ]
  },
  {
   "cell_type": "code",
   "execution_count": 5,
   "metadata": {},
   "outputs": [],
   "source": [
    "o = cv2.imread('image/lena.bmp', cv2.IMREAD_GRAYSCALE)\n",
    "r = cv2.Canny(o, 50, 100)\n",
    "\n",
    "cv2.imshow('original', o)\n",
    "cv2.imshow('result', r)\n",
    "cv2.waitKey()\n",
    "cv2.destroyAllWindows()"
   ]
  },
  {
   "cell_type": "code",
   "execution_count": 7,
   "metadata": {},
   "outputs": [],
   "source": [
    "o = cv2.imread('image/lenacolor.png', cv2.IMREAD_UNCHANGED)\n",
    "r = cv2.Canny(o, 150, 250)\n",
    "\n",
    "cv2.imshow('original', o)\n",
    "cv2.imshow('result', r)\n",
    "cv2.waitKey()\n",
    "cv2.destroyAllWindows()"
   ]
  },
  {
   "cell_type": "code",
   "execution_count": null,
   "metadata": {},
   "outputs": [],
   "source": []
  },
  {
   "cell_type": "code",
   "execution_count": null,
   "metadata": {},
   "outputs": [],
   "source": []
  }
 ],
 "metadata": {
  "kernelspec": {
   "display_name": "Python 3",
   "language": "python",
   "name": "python3"
  },
  "language_info": {
   "codemirror_mode": {
    "name": "ipython",
    "version": 3
   },
   "file_extension": ".py",
   "mimetype": "text/x-python",
   "name": "python",
   "nbconvert_exporter": "python",
   "pygments_lexer": "ipython3",
   "version": "3.6.5"
  }
 },
 "nbformat": 4,
 "nbformat_minor": 2
}
