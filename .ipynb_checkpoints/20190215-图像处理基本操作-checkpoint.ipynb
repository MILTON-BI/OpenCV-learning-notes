{
 "cells": [
  {
   "cell_type": "code",
   "execution_count": 1,
   "metadata": {},
   "outputs": [],
   "source": [
    "import cv2"
   ]
  },
  {
   "cell_type": "markdown",
   "metadata": {},
   "source": [
    "## 1. 图像\n",
    "\n",
    "### 1. 1 读入图像\n",
    "\n",
    "- img = cv2.imread(文件名[, 显示控制参数])\n",
    "    - cv.IMREAD_UNCHANGED 显示原图\n",
    "    - cv.IMREAD_GRAYSCALE 显示灰度图\n",
    "    - cv.IMREAD_COLOR 显示彩色图\n",
    "    - 更多参数参见官网\n",
    "\n",
    "### 1.2 显示图像\n",
    "\n",
    "- cv2.imshow(窗口名称,图像名称)\n",
    "- cv2.waitKey([, delay])\n",
    "    - delay>0, 等待delay毫秒\n",
    "    - delay<0, 等待键盘单击\n",
    "    - delay=0, 无限等待（默认）\n",
    "- cv2.destroyAllWindows(窗口名)\n",
    "    - 无参数则关闭所有窗口，并从内存中删除\n",
    "\n",
    "### 1.3 保存图像\n",
    "\n",
    "- cv2.imwrite(保存文件的地址, 要保存的文件名) "
   ]
  },
  {
   "cell_type": "code",
   "execution_count": 2,
   "metadata": {},
   "outputs": [
    {
     "data": {
      "text/plain": [
       "True"
      ]
     },
     "execution_count": 2,
     "metadata": {},
     "output_type": "execute_result"
    }
   ],
   "source": [
    "# 示例\n",
    "img = cv2.imread('../image/test.png')\n",
    "cv2.imshow('demo', img)\n",
    "cv2.waitKey(0)\n",
    "cv2.destroyAllWindows()\n",
    "cv2.imwrite('../image/test1.jpg', img)"
   ]
  },
  {
   "cell_type": "markdown",
   "metadata": {},
   "source": [
    "## 2. 图像处理基础\n",
    "\n",
    "- 图像是由像素构成的\n",
    "- 图像分类\n",
    "    - 二值图像：黑白（1，0），每个像素点是单个值\n",
    "    - 灰度图像：把灰度（黑到白）分为256个（0-255，0纯黑，255纯白）不同的颜色，每个像素点是单个值\n",
    "    - RGB图像：每个像素点是三个值\n",
    "        - 一般情况是（R,G,B）\n",
    "        - 在opencv里面的通道顺序是（B,G,R）\n",
    "            - 所以在opencv里面，一般先根据习惯把通道顺序处理成(R,G,B)"
   ]
  },
  {
   "cell_type": "markdown",
   "metadata": {},
   "source": [
    "## 3. 像素处理\n",
    "\n",
    "### 3.1 读取像素\n",
    "\n",
    "- 返回值= 图像名（位置参数）\n",
    "    - 位置参数：行+列\n",
    "\n",
    "### 3.2 修改像素值\n",
    "\n",
    "- 图像名（位置参数）= 新的像素值\n",
    "    - img[13, 13] = [B值, G值, R值]"
   ]
  },
  {
   "cell_type": "code",
   "execution_count": 3,
   "metadata": {},
   "outputs": [
    {
     "name": "stdout",
     "output_type": "stream",
     "text": [
      "[ 79 133 116]\n",
      "79\n",
      "133\n",
      "116\n"
     ]
    }
   ],
   "source": [
    "pix = img[13, 13]\n",
    "print(pix)\n",
    "print(pix[0])   # blue\n",
    "print(pix[1])   # green\n",
    "print(pix[2])   # red"
   ]
  },
  {
   "cell_type": "code",
   "execution_count": 4,
   "metadata": {},
   "outputs": [
    {
     "name": "stdout",
     "output_type": "stream",
     "text": [
      "[215   0 133]\n"
     ]
    },
    {
     "data": {
      "text/plain": [
       "<Figure size 640x480 with 1 Axes>"
      ]
     },
     "metadata": {},
     "output_type": "display_data"
    }
   ],
   "source": [
    "img[13, 13] = [215, 0, 133]\n",
    "print(img[13, 13])\n",
    "\n",
    "import matplotlib.pyplot as plt\n",
    "plt.imshow(img, cmap='viridis', interpolation='bicubic')\n",
    "plt.show()"
   ]
  },
  {
   "cell_type": "code",
   "execution_count": 5,
   "metadata": {},
   "outputs": [
    {
     "name": "stdout",
     "output_type": "stream",
     "text": [
      "78\n",
      "68\n",
      "178\n",
      "[ 78  68 178]\n"
     ]
    }
   ],
   "source": [
    "src = cv2.imread('../image/lenacolor.png')\n",
    "print(src[100,100,0])\n",
    "print(src[100,100,1])\n",
    "print(src[100,100,2])\n",
    "print(src[100,100])"
   ]
  },
  {
   "cell_type": "code",
   "execution_count": 6,
   "metadata": {},
   "outputs": [
    {
     "data": {
      "text/plain": [
       "True"
      ]
     },
     "execution_count": 6,
     "metadata": {},
     "output_type": "execute_result"
    }
   ],
   "source": [
    "src[100:150, 100:150] = [255, 255, 255]\n",
    "cv2.imshow('demo', src)\n",
    "cv2.waitKey(0)\n",
    "cv2.destroyAllWindows()\n",
    "cv2.imwrite('../image/lena_changed_color.jpg', src)"
   ]
  },
  {
   "cell_type": "markdown",
   "metadata": {},
   "source": [
    "## 4. 用numpy处理像素\n",
    "\n",
    "### 4.1 读取像素\n",
    "\n",
    "- 用img.item函数\n",
    "    - 灰度图像: p = img.item(位置)\n",
    "    - RGB图像：要分别读取每个通道的值\n",
    "        - p = img.item(位置，通道) \n",
    "\n",
    "### 4.2 修改像素\n",
    "\n",
    "- 用img.itemset函数\n",
    "    - 灰度图像：img.itemset(位置，新值)\n",
    "    - BGR图像：分别设置每个通道的新值\n",
    "        - img.itemset((位置，通道), 新值)"
   ]
  },
  {
   "cell_type": "code",
   "execution_count": 7,
   "metadata": {},
   "outputs": [
    {
     "name": "stdout",
     "output_type": "stream",
     "text": [
      "255 255 255\n"
     ]
    }
   ],
   "source": [
    "import numpy as np\n",
    "print(src.item(100,100,0), src.item(100, 100, 1), src.item(100, 100, 2))"
   ]
  },
  {
   "cell_type": "markdown",
   "metadata": {},
   "source": [
    "## 5. 获取图像属性\n",
    "\n",
    "### 5.1 形状属性\n",
    "\n",
    "- img.shape\n",
    "    - 灰度图像：行数、列数\n",
    "    - 彩色图像：行数、列数、通道"
   ]
  },
  {
   "cell_type": "code",
   "execution_count": 8,
   "metadata": {},
   "outputs": [
    {
     "name": "stdout",
     "output_type": "stream",
     "text": [
      "(512, 512, 3)\n",
      "(256, 256)\n"
     ]
    }
   ],
   "source": [
    "print(src.shape)\n",
    "\n",
    "img1 = cv2.imread('../image/lena256.bmp', cv2.IMREAD_UNCHANGED)\n",
    "print(img1.shape)"
   ]
  },
  {
   "cell_type": "markdown",
   "metadata": {},
   "source": [
    "### 5.2 像素点数\n",
    "\n",
    "- img.size\n",
    "    - 灰度图像： 行数*列数\n",
    "    - 彩色图像： 行数*列数*像素数"
   ]
  },
  {
   "cell_type": "code",
   "execution_count": 9,
   "metadata": {},
   "outputs": [
    {
     "name": "stdout",
     "output_type": "stream",
     "text": [
      "786432\n",
      "65536\n"
     ]
    }
   ],
   "source": [
    "print(src.size)\n",
    "print(img1.size)"
   ]
  },
  {
   "cell_type": "markdown",
   "metadata": {},
   "source": [
    "### 5.3 图像数据类型\n",
    "\n",
    "- img.dtype\n",
    "    - 返回图像的数据类型"
   ]
  },
  {
   "cell_type": "code",
   "execution_count": 10,
   "metadata": {},
   "outputs": [
    {
     "name": "stdout",
     "output_type": "stream",
     "text": [
      "uint8\n",
      "uint8\n"
     ]
    }
   ],
   "source": [
    "print(src.dtype)\n",
    "print(img1.dtype)"
   ]
  },
  {
   "cell_type": "markdown",
   "metadata": {},
   "source": [
    "## 6. 图像ROI(region of interest)\n",
    "\n",
    "- ROI 感兴趣区域：从被处理图像以方框、圆形、椭圆、不规则多边形等方式勾勒出需要处理的区域\n",
    "- 可以通过算子（operator）和函数来求得感兴趣区域ROI，并进行图像的下一步处理\n",
    "- 简单的方式可以通过下标的方式\n",
    "    - img[200:300, 200:400]"
   ]
  },
  {
   "cell_type": "code",
   "execution_count": 13,
   "metadata": {},
   "outputs": [
    {
     "name": "stdout",
     "output_type": "stream",
     "text": [
      "[[[ 90  51 127]\n",
      "  [ 81  43 126]\n",
      "  [ 93  54 134]\n",
      "  ...\n",
      "  [115  89 153]\n",
      "  [126 111 161]\n",
      "  [134 120 176]]\n",
      "\n",
      " [[ 89  42 115]\n",
      "  [ 90  43 110]\n",
      "  [102  54 121]\n",
      "  ...\n",
      "  [118  87 157]\n",
      "  [111  80 154]\n",
      "  [119 101 171]]\n",
      "\n",
      " [[ 98  55 117]\n",
      "  [104  58 123]\n",
      "  [103  63 118]\n",
      "  ...\n",
      "  [137 103 164]\n",
      "  [102  74 146]\n",
      "  [125  92 160]]\n",
      "\n",
      " ...\n",
      "\n",
      " [[ 53  19  90]\n",
      "  [ 66  22  91]\n",
      "  [ 58  22  88]\n",
      "  ...\n",
      "  [ 91  69 142]\n",
      "  [ 73  49 131]\n",
      "  [ 83  62 139]]\n",
      "\n",
      " [[ 62  27  99]\n",
      "  [ 61  22  88]\n",
      "  [ 63  18  84]\n",
      "  ...\n",
      "  [ 84  65 140]\n",
      "  [ 74  50 132]\n",
      "  [ 84  60 139]]\n",
      "\n",
      " [[ 63  31  95]\n",
      "  [ 71  31  86]\n",
      "  [ 63  22  84]\n",
      "  ...\n",
      "  [ 79  63 142]\n",
      "  [ 78  53 132]\n",
      "  [ 87  62 142]]]\n"
     ]
    }
   ],
   "source": [
    "face = src[200:400, 200:360]\n",
    "print(face)\n",
    "cv2.imshow('face', face)\n",
    "cv2.waitKey(0)\n",
    "cv2.destroyAllWindows()"
   ]
  },
  {
   "cell_type": "code",
   "execution_count": 27,
   "metadata": {},
   "outputs": [],
   "source": [
    "import cv2\n",
    "import numpy as np\n",
    "img1 = cv2.imread('../image/lenacolor.png', cv2.IMREAD_UNCHANGED)\n",
    "img2 = cv2.imread('../image/girl.bmp', cv2.IMREAD_UNCHANGED)\n",
    "\n",
    "\n",
    "\n",
    "img1_roi = img1[220:380, 200:350]\n",
    "img1[0:160, 0:150] = img1_roi\n",
    "img2[0:160, 0:150] = img1_roi\n",
    "cv2.imshow('original', img1)\n",
    "cv2.imshow('changed', img2)\n",
    "cv2.imshow('face', img1_roi)\n",
    "\n",
    "\n",
    "cv2.waitKey(0)\n",
    "cv2.destroyAllWindows()"
   ]
  },
  {
   "cell_type": "markdown",
   "metadata": {},
   "source": [
    "## 7. 通道的拆分与合并\n",
    "\n",
    "### 7.1 拆分cv2.split()\n",
    "\n",
    "- 指将图像拆分成三个独立的通道\n",
    "    - 拆分的结果是三个灰度图像\n",
    "    - 方法1：切片\n",
    "    - 方法2：cv2.split(要拆分的图像名)\n",
    "        - cv2.split(要拆分的图像名)[0] 得到b通道\n",
    "        - 其他通道类似\n",
    "\n",
    "\n",
    "### 7.2 合并cv2.merge()\n",
    "\n",
    "- 将独立的三个通道合并成rgb彩色图像\n",
    "- 使用cv2.merge([要合并的灰度图像])"
   ]
  },
  {
   "cell_type": "code",
   "execution_count": 31,
   "metadata": {},
   "outputs": [],
   "source": [
    "# b = img1[:, :, 0]\n",
    "# g = img1[:, :, 1]\n",
    "# r = img1[:, :, 2]\n",
    "\n",
    "# 使用split函数\n",
    "# b, g, r = cv2.split(img1)\n",
    "\n",
    "b = cv2.split(img1)[0]\n",
    "g = cv2.split(img1)[1]\n",
    "r = cv2.split(img1)[2]\n",
    "\n",
    "cv2.imshow('blue', b)\n",
    "cv2.imshow('green', g)\n",
    "cv2.imshow('red', r)\n",
    "cv2.waitKey(0)\n",
    "cv2.destroyAllWindows()"
   ]
  },
  {
   "cell_type": "code",
   "execution_count": 32,
   "metadata": {},
   "outputs": [],
   "source": [
    "# 合并\n",
    "bgr = cv2.merge([b,g,r])\n",
    "rgb = cv2.merge([r,g,b])\n",
    "rbg = cv2.merge([r,b,g])\n",
    "cv2.imshow('bgr', bgr)\n",
    "cv2.imshow('rgb', rgb)\n",
    "cv2.imshow('rbg', rbg)\n",
    "cv2.waitKey(0)\n",
    "cv2.destroyAllWindows()"
   ]
  },
  {
   "cell_type": "code",
   "execution_count": 36,
   "metadata": {},
   "outputs": [],
   "source": [
    "# 只使用一个通道的合并——蓝色\n",
    "rows, cols, chns = img1.shape\n",
    "\n",
    "b = cv2.split(img1)[0]\n",
    "g = np.zeros((rows, cols), dtype=img1.dtype)\n",
    "r = np.zeros((rows, cols), dtype=img1.dtype)\n",
    "m = cv2.merge([b, g, r])\n",
    "cv2.imshow('merged', m)\n",
    "cv2.waitKey(0)\n",
    "cv2.destroyAllWindows()"
   ]
  },
  {
   "cell_type": "code",
   "execution_count": 37,
   "metadata": {},
   "outputs": [],
   "source": [
    "# 只使用一个通道的合并——绿色\n",
    "rows, cols, chns = img1.shape\n",
    "\n",
    "g = cv2.split(img1)[1]\n",
    "b = np.zeros((rows, cols), dtype=img1.dtype)\n",
    "r = np.zeros((rows, cols), dtype=img1.dtype)\n",
    "m = cv2.merge([b, g, r])\n",
    "cv2.imshow('merged', m)\n",
    "cv2.waitKey(0)\n",
    "cv2.destroyAllWindows()"
   ]
  },
  {
   "cell_type": "code",
   "execution_count": 41,
   "metadata": {},
   "outputs": [
    {
     "name": "stdout",
     "output_type": "stream",
     "text": [
      "512\n",
      "512\n",
      "3\n",
      "[[ 87  91  93 ... 230 221 200]\n",
      " [ 92  84  93 ... 230 221 200]\n",
      " [ 92  86  83 ... 230 221 200]\n",
      " ...\n",
      " [ 84  84  92 ... 173 172 177]\n",
      " [ 82  82  96 ... 179 181 185]\n",
      " [ 83  82  96 ... 179 181 185]]\n",
      "[[0 0 0 ... 0 0 0]\n",
      " [0 0 0 ... 0 0 0]\n",
      " [0 0 0 ... 0 0 0]\n",
      " ...\n",
      " [0 0 0 ... 0 0 0]\n",
      " [0 0 0 ... 0 0 0]\n",
      " [0 0 0 ... 0 0 0]]\n"
     ]
    }
   ],
   "source": [
    "# 只使用一个通道的合并——红色\n",
    "rows, cols, chns = img1.shape\n",
    "print(rows)\n",
    "print(cols)\n",
    "print(chns)\n",
    "\n",
    "r = cv2.split(img1)[2]\n",
    "print(r)\n",
    "g = np.zeros((rows, cols), dtype=img1.dtype)\n",
    "print(g)\n",
    "b = np.zeros((rows, cols), dtype=img1.dtype)\n",
    "m = cv2.merge([b, g, r])\n",
    "cv2.imshow('merged', m)\n",
    "cv2.waitKey(0)\n",
    "cv2.destroyAllWindows()"
   ]
  },
  {
   "cell_type": "markdown",
   "metadata": {},
   "source": [
    "## 8.图像运算：图像加法运算\n",
    "\n",
    "### 8.1 numpy加法：取模运算\n",
    "\n",
    "- 取模加法: 结果 = 图像1 + 图像2\n",
    "    - 如果结果的像素值<=255, 则直接取结果值\n",
    "    - 如果结果的像素值>255, 则结果对255取模  255+58=(255+58)%255=58\n",
    "- 注意的问题：\n",
    "    - 参与运算的图像大小、类型必须一致\n",
    "\n",
    "### 8.2 OpenCV的加法:饱和运算\n",
    "\n",
    "- 饱和运算加法： 结果 = cv2.add(图像1，图像2)\n",
    "    - 如果结果的像素值<=255, 则直接取结果值\n",
    "    - 如果结果的像素值>255, 则结果取255\n",
    "- 注意的问题：\n",
    "    - 参与运算的图像大小、类型必须一致"
   ]
  },
  {
   "cell_type": "code",
   "execution_count": 43,
   "metadata": {},
   "outputs": [],
   "source": [
    "import cv2\n",
    "import numpy as np\n",
    "\n",
    "img = cv2.imread('../image/lena512.bmp')\n",
    "img1 = img\n",
    "res1 = img + img1\n",
    "res2 = cv2.add(img, img1)\n",
    "\n",
    "cv2.imshow('original', img)\n",
    "cv2.imshow('res1', res1)\n",
    "cv2.imshow('res2', res2)\n",
    "\n",
    "cv2.waitKey(0)\n",
    "cv2.destroyAllWindows()"
   ]
  },
  {
   "cell_type": "markdown",
   "metadata": {},
   "source": [
    "## 9.图像运算：图像融合运算\n",
    "\n",
    "- 将两张或两张以上图像的信息融合到一张图像\n",
    "- 融合的图像有更多的信息，能够更方便人来观察或者用计算机进行处理\n",
    "- 图像加法与图像融合\n",
    "    - 图像加法：img = img1 + img2\n",
    "    - 简单图像融合: 权重加法\n",
    "        - img = img1 * idx1 + img2 * idx2 + 亮度调节量  （idx1+idx2=1）\n",
    "        - 函数cv2.addWeighted(src1, alpha, src2, beta, gamma)\n",
    "            - 结果=src1 * alpha + src2 * beta + gamma\n",
    "            - 参数gamma不能省略\n",
    "            - alpha,beta大者，在融合的图像中相应的src会更突出"
   ]
  },
  {
   "cell_type": "code",
   "execution_count": 52,
   "metadata": {},
   "outputs": [],
   "source": [
    "src1 = cv2.imread('../image/add/boat.bmp')\n",
    "# print(src1.shape)\n",
    "src2 = cv2.imread('../image/lenacolor.png')\n",
    "# print(src2.shape)\n",
    "\n",
    "merged = cv2.addWeighted(src1, 0.3, src2, 2, 55)\n",
    "cv2.imshow('merged', merged)\n",
    "cv2.waitKey(0)\n",
    "cv2.destroyAllWindows()"
   ]
  },
  {
   "cell_type": "markdown",
   "metadata": {},
   "source": [
    "## 10.图像类型转换\n",
    "\n",
    "- 将图像由一种类型转换成另一种类型\n",
    "    - 彩色和灰度图像之间转换\n",
    "    - 通道顺序转换\n",
    "- opencv提供了200多种不同类型之间的转换\n",
    "    - cv2.COLOR_BGR2GRAY\n",
    "    - cv2.COLOR_BRG2RGB\n",
    "    - cv2.COLOR_GRAY2BGR\n",
    "    - ......\n",
    "- 彩色转换成灰度\n",
    "    - cv2.cvtColor(a, cv2.COLOR_BRG2GRAY)\n",
    "- bgr转换rgb\n",
    "    - cv2.cvtColor(a, cv2.COLOR_BRG2RGB)\n",
    "- 灰度转换成BRG"
   ]
  },
  {
   "cell_type": "code",
   "execution_count": 55,
   "metadata": {},
   "outputs": [],
   "source": [
    "# 彩色图像转成灰度图像\n",
    "bgr2gray = cv2.cvtColor(src2, cv2.COLOR_BGR2GRAY)\n",
    "bgr2rgb = cv2.cvtColor(src2, cv2.COLOR_BGR2RGB)\n",
    "cv2.imshow('lena-bgr', src2)\n",
    "cv2.imshow('lena-gray', bgr2gray)\n",
    "cv2.imshow('lena-rgb', bgr2rgb)\n",
    "cv2.waitKey(0)\n",
    "cv2.destroyAllWindows()"
   ]
  },
  {
   "cell_type": "code",
   "execution_count": 62,
   "metadata": {},
   "outputs": [
    {
     "name": "stdout",
     "output_type": "stream",
     "text": [
      "(256, 256)\n",
      "(256, 256, 3)\n"
     ]
    }
   ],
   "source": [
    "src = cv2.imread('../image/lena256.bmp', cv2.IMREAD_UNCHANGED)\n",
    "print(src.shape)\n",
    "toBGR = cv2.cvtColor(src, cv2.COLOR_GRAY2BGR)\n",
    "print(toBGR.shape)\n",
    "cv2.imshow('lena-256', src)\n",
    "cv2.imshow('lena-brg', toBGR)\n",
    "cv2.waitKey(0)\n",
    "cv2.destroyAllWindows()"
   ]
  },
  {
   "cell_type": "markdown",
   "metadata": {},
   "source": [
    "## 11.图像几何变换\n",
    "\n",
    "### 11.1 图像缩放\n",
    "\n",
    "- resize函数\n",
    "- dst = cv2.resize(src, dsize [, dst[, fx[, fy[, interpolation]]]])\n",
    "    - src: 原始图像，必选参数\n",
    "    - dsize: 缩放尺寸(列数，行数)，必选参数\n",
    "        - b = cv2.resize(a, (122,122))\n",
    "    - fx, fy: 通常在第二个参数不使用的时候，通过fx和fy来指定缩放尺寸\n",
    "        - fx: 在水平方向上缩放多少倍，大于1表示方法，小于1表示缩小\n",
    "        - fy: 在垂直方向上缩放多少倍，大于1表示方法，小于1表示缩小 \n",
    "            - 例如：b = cv2.resize(a, dsize=None, fx=0.5, fy=1.5)\n"
   ]
  },
  {
   "cell_type": "code",
   "execution_count": 66,
   "metadata": {},
   "outputs": [],
   "source": [
    "resized = cv2.resize(src2, dsize=None, fx=0.75, fy=0.75)\n",
    "cv2.imshow('resized', resized)\n",
    "cv2.waitKey(0)\n",
    "cv2.destroyAllWindows()"
   ]
  },
  {
   "cell_type": "markdown",
   "metadata": {},
   "source": [
    "### 11.2 图像翻转\n",
    "\n",
    "- 语法：dst = cv2.flip(src, flipCode)\n",
    "    - flipcode=0，表示以x轴为对称轴的上下翻转\n",
    "    - flipcode=1, 表示以y轴为对称轴的左右翻转(用其他大于0的值也可以）\n",
    "    - flipcode=-1, 表示同时以x轴和y轴为对称轴翻转两次(用其他小于0的值也可以）"
   ]
  },
  {
   "cell_type": "code",
   "execution_count": 68,
   "metadata": {},
   "outputs": [],
   "source": [
    "fliped1 = cv2.flip(src2, 0)\n",
    "fliped2 = cv2.flip(src2, 1)\n",
    "fliped3 = cv2.flip(src2, -1)\n",
    "cv2.imshow('original', src2)\n",
    "cv2.imshow('flip1', fliped1)\n",
    "cv2.imshow('flip2', fliped2)\n",
    "cv2.imshow('flip3', fliped3)\n",
    "cv2.waitKey(0)\n",
    "cv2.destroyAllWindows()"
   ]
  },
  {
   "cell_type": "code",
   "execution_count": null,
   "metadata": {},
   "outputs": [],
   "source": []
  }
 ],
 "metadata": {
  "kernelspec": {
   "display_name": "Python 3",
   "language": "python",
   "name": "python3"
  },
  "language_info": {
   "codemirror_mode": {
    "name": "ipython",
    "version": 3
   },
   "file_extension": ".py",
   "mimetype": "text/x-python",
   "name": "python",
   "nbconvert_exporter": "python",
   "pygments_lexer": "ipython3",
   "version": "3.6.5"
  }
 },
 "nbformat": 4,
 "nbformat_minor": 2
}
