{
 "cells": [
  {
   "cell_type": "code",
   "execution_count": 2,
   "metadata": {},
   "outputs": [],
   "source": [
    "import cv2"
   ]
  },
  {
   "cell_type": "markdown",
   "metadata": {},
   "source": [
    "# 图像平滑处理\n",
    "\n",
    "## 均值滤波\n",
    "\n",
    "- 任意一点（以该点为中心）的像素值，以周围N*N个像素值的均值作为该点的新的值\n",
    "- 对原始图像的每一点都采用这种方式计算新的像素值，即均值滤波\n",
    "- 语法：dst = cv2.blur(原始图像，核大小)\n",
    "    - 核大小是以(宽度，高度)表示的元组"
   ]
  },
  {
   "cell_type": "code",
   "execution_count": 36,
   "metadata": {},
   "outputs": [],
   "source": [
    "img = cv2.imread('image/addd/lenaNoise.png')\n",
    "dst = cv2.blur(img, (5, 5))\n",
    "cv2.imshow('original', img)\n",
    "cv2.imshow('blured', dst)\n",
    "cv2.waitKey()\n",
    "cv2.destroyAllWindows()"
   ]
  },
  {
   "cell_type": "markdown",
   "metadata": {},
   "source": [
    "## 方框滤波\n",
    "\n",
    "- 语法：dst = cv2.boxFilter(src, 目标图像深度，核大小，normalize属性)\n",
    "    - 目标图像深度：int类型，通常使用-1表示与原始图像一致\n",
    "    - 核大小：（宽度, 高度）\n",
    "    - normalize属性：是否对目标图像进行归一化处理\n",
    "        - =1,表示要做均值归一化处理，结果与均值滤波效果相同，为默认值\n",
    "        - =0,表示不进行归一化处理，每个点的值等于周围 N * N（核大小）个点求和，很容易发生溢出（超过255，则点显示白色）"
   ]
  },
  {
   "cell_type": "code",
   "execution_count": 38,
   "metadata": {},
   "outputs": [],
   "source": [
    "dst = cv2.boxFilter(img, -1, (5, 5), normalize=1)\n",
    "cv2.imshow('original', img)\n",
    "cv2.imshow('filtered', dst)\n",
    "cv2.waitKey()\n",
    "cv2.destroyAllWindows()"
   ]
  },
  {
   "cell_type": "markdown",
   "metadata": {},
   "source": [
    "## 高斯滤波\n",
    "\n",
    "- 让中心点临近的像素具有更高的重要度：对中心点周围像素计算加权平均值，距离中心点较近的像素具有较大的权重值\n",
    "- 语法：dst = cv2.GaussianBlur(src, ksize, sigmaX)\n",
    "    - KSIZE: 核大小，（N,N）,N必须为奇数\n",
    "    - sigmaX: x方向方差，控制x方向的权重\n",
    "        - 一般可以指定sigmaX=0, 会根据核大小自己计算sigma=0.3*((ksize-1)*0.5-1)+0.8\n",
    "        - y方向的方差与x方向一致，省略\n",
    "        - 在核大小固定的情况下，sigma值越大，权值分布越平缓。因此，邻域各个点的值对输出值的影响越大，最终结果造成图像越模糊\n",
    "        - 在核大小固定的情况下，sigma值越小，权值分布越突起。因此，邻域各个点的值对输出值的影响越小，图像变化也越小。\n",
    "            - 假如中心点权值为1，其他点权值为0，那么最终结果是图像没有任何变化\n",
    "        - sigma固定时，核越大图像越模糊,核越小图像变化越小"
   ]
  },
  {
   "cell_type": "code",
   "execution_count": 43,
   "metadata": {},
   "outputs": [],
   "source": [
    "dst = cv2.GaussianBlur(img, (3, 3), sigmaX=5)\n",
    "cv2.imshow('original', img)\n",
    "cv2.imshow('GAUSSIANBLUR', dst)\n",
    "cv2.waitKey()\n",
    "cv2.destroyAllWindows()"
   ]
  },
  {
   "cell_type": "markdown",
   "metadata": {},
   "source": [
    "## 中值滤波\n",
    "\n",
    "- 让中心点临近的像素按照像素值大小排列，去排序后像素值的中值作为该点滤波后的像素值\n",
    "- 语法：dst = cv2.medianBlur(src, ksize)\n",
    "    - ksize: N, 必须为大于1的奇数；而且不是元组的形式，是一个大于1的奇数值\n",
    "    - ksize越大，目标图像越模糊\n",
    "- 中值滤波会将奇异的点（过大或过小）滤掉，并用中值代替，因此相对其他方法，对噪声图像的处理效果更好"
   ]
  },
  {
   "cell_type": "code",
   "execution_count": 45,
   "metadata": {},
   "outputs": [],
   "source": [
    "dst = cv2.medianBlur(img,3)\n",
    "cv2.imshow('original', img)\n",
    "cv2.imshow('result', dst)\n",
    "cv2.waitKey()\n",
    "cv2.destroyAllWindows()"
   ]
  },
  {
   "cell_type": "code",
   "execution_count": null,
   "metadata": {},
   "outputs": [],
   "source": []
  },
  {
   "cell_type": "markdown",
   "metadata": {},
   "source": []
  }
 ],
 "metadata": {
  "kernelspec": {
   "display_name": "Python 3",
   "language": "python",
   "name": "python3"
  },
  "language_info": {
   "codemirror_mode": {
    "name": "ipython",
    "version": 3
   },
   "file_extension": ".py",
   "mimetype": "text/x-python",
   "name": "python",
   "nbconvert_exporter": "python",
   "pygments_lexer": "ipython3",
   "version": "3.6.5"
  }
 },
 "nbformat": 4,
 "nbformat_minor": 2
}
