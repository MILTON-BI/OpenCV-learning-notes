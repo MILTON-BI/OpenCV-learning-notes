{
 "cells": [
  {
   "cell_type": "markdown",
   "metadata": {},
   "source": [
    "## 形态学转换\n",
    "\n",
    "- 形态学操作针对的是二值图像\n",
    "\n",
    "### 1. 图像腐蚀\n",
    "\n",
    "- 腐蚀的形态学转换主要针对的是二值图像\n",
    "- 腐蚀针对的是前景色，即像素值为1的那些像素点（白色），效果是将前景色的边缘的毛刺去掉，同时缩小边缘\n",
    "- 两个输入对象\n",
    "    - 对象1：二值图像，即要腐蚀的原图\n",
    "    - 对象2：卷积核，也是一个二值的图像\n",
    "- 在腐蚀的时候，用卷积核的中心点逐个像素扫描原图\n",
    "    - 被扫描到的原图中的像素点，只有当卷积核对应的所有像素值均为1时，其值才为1，否则为0\n",
    "- 语法：dst = cv2.erode(src, kernel, iterations=n)\n",
    "    - kernel: 卷积核。可以用np生成，kernel=np.ones((5,5), np.uint8)\n",
    "    - iterations: 迭代次数，表示要进行多少轮的腐蚀，默认是1次（可省略）"
   ]
  },
  {
   "cell_type": "code",
   "execution_count": 3,
   "metadata": {},
   "outputs": [],
   "source": [
    "import cv2\n",
    "import numpy as np\n",
    "\n",
    "o = cv2.imread('image/addd/erode.bmp', cv2.IMREAD_UNCHANGED)\n",
    "kernel = np.ones((3,3), np.uint8)\n",
    "erosion = cv2.erode(o, kernel=kernel, iterations=8)\n",
    "\n",
    "cv2.imshow('original', o)\n",
    "cv2.imshow('result', erosion)\n",
    "\n",
    "cv2.waitKey()\n",
    "cv2.destroyAllWindows()"
   ]
  },
  {
   "cell_type": "markdown",
   "metadata": {},
   "source": [
    "### 2. 图像膨胀：腐蚀操作的逆操作\n",
    "\n",
    "- 膨胀是腐蚀操作的逆操作\n",
    "- 腐蚀和膨胀操作一般用于图像的去噪\n",
    "    - 图像被腐蚀后，去除了噪声，但是会压缩图像\n",
    "    - 对腐蚀后的图像进行膨胀处理，可以在去除噪声的基础上，还原原有的形状\n",
    "    - 一次腐蚀后再进行膨胀操作，在图像形态学中称为开运算\n",
    "- 膨胀操作主要针对二值图像\n",
    "    - 两个输入对象\n",
    "        - 对象1：二值图像，即要腐蚀的原图\n",
    "        - 对象2：卷积核，也是一个二值的图像\n",
    "    - 在腐蚀的时候，用卷积核的中心点逐个像素扫描原图\n",
    "        - 被扫描到的原图中的像素点，当卷积核对应的像素值至少有一个为1时，其值为1，全部为0时其值才为0\n",
    "- 语法：dst = cv2.dilate(src, kernel, iterations=n)\n",
    "    - 参数同腐蚀操作"
   ]
  },
  {
   "cell_type": "code",
   "execution_count": 7,
   "metadata": {},
   "outputs": [],
   "source": [
    "o = cv2.imread('image/addd/dilation.bmp', cv2.IMREAD_UNCHANGED)\n",
    "kernel = np.ones((3,3), np.uint8)\n",
    "dilation = cv2.dilate(o, kernel=kernel, iterations=20)\n",
    "\n",
    "cv2.imshow('original', o)\n",
    "cv2.imshow('result', dilation)\n",
    "\n",
    "cv2.waitKey()\n",
    "cv2.destroyAllWindows()"
   ]
  },
  {
   "cell_type": "markdown",
   "metadata": {},
   "source": [
    "## 3.开运算\n",
    "\n",
    "- 一次腐蚀去噪声，一次膨胀恢复原图形状\n",
    "- 开运算(image) = 膨胀(腐蚀(image))\n",
    "- 语法：opening = cv2.morphologyEx(img, cv2.MORPH_OPEN, kernel)\n",
    "    - morphology+ Ex 表示： 形态学+扩展\n",
    "    - 参数：\n",
    "        - cv.MORPH_OPEN, 开运算\n",
    "        - kernel, 卷积核"
   ]
  },
  {
   "cell_type": "code",
   "execution_count": 15,
   "metadata": {},
   "outputs": [],
   "source": [
    "o = cv2.imread('image/addd/opening.bmp', cv2.IMREAD_UNCHANGED)\n",
    "k = np.ones((8,8), np.uint8)\n",
    "opening = cv2.morphologyEx(o, cv2.MORPH_OPEN, k)\n",
    "\n",
    "cv2.imshow('original', o)\n",
    "cv2.imshow('result', opening)\n",
    "\n",
    "cv2.waitKey()\n",
    "cv2.destroyAllWindows()"
   ]
  },
  {
   "cell_type": "markdown",
   "metadata": {},
   "source": [
    "## 4.闭运算\n",
    "\n",
    "- 是开运算的逆运算：先膨胀，后腐蚀\n",
    "    - 它有助于去除前景物体内部的小孔，或物体上的小黑点\n",
    "- 闭运算(image) = 腐蚀(膨胀(image))\n",
    "    - 语法：closing = cv2.morphologyEx(img, cv2.MORPH_CLOSE, kernel)\n",
    "        - 参数同开运算"
   ]
  },
  {
   "cell_type": "code",
   "execution_count": 19,
   "metadata": {},
   "outputs": [],
   "source": [
    "o = cv2.imread('image/addd/closing.bmp', cv2.IMREAD_UNCHANGED)\n",
    "k = np.ones((11,11), np.uint8)\n",
    "closing = cv2.morphologyEx(o, cv2.MORPH_CLOSE, k)\n",
    "\n",
    "cv2.imshow('original', o)\n",
    "cv2.imshow('result', closing)\n",
    "\n",
    "cv2.waitKey()\n",
    "cv2.destroyAllWindows()"
   ]
  },
  {
   "cell_type": "markdown",
   "metadata": {},
   "source": [
    "## 5.梯度运算\n",
    "\n",
    "- 梯度运算：源图像分别进行膨胀和腐蚀，然后对膨胀和腐蚀后的图像进行减法操作\n",
    "    - 源图像：膨胀操作 + 腐蚀操作\n",
    "    - 膨胀图像 - 腐蚀图像\n",
    "- 梯度操作得到图像的轮廓图像\n",
    "- 梯度(img) = 膨胀（img）- 腐蚀（img）\n",
    "- 语法：dst = cv2.morphologyEx(img, cv2.MORPH_GRADIENT, kernel)\n",
    "    - 参数同上"
   ]
  },
  {
   "cell_type": "code",
   "execution_count": 22,
   "metadata": {},
   "outputs": [],
   "source": [
    "o = cv2.imread('image/addd/gradient.bmp', cv2.IMREAD_UNCHANGED)\n",
    "k = np.ones((5,5), np.uint8)\n",
    "r = cv2.morphologyEx(o, cv2.MORPH_GRADIENT, k)\n",
    "\n",
    "cv2.imshow('original', o)\n",
    "cv2.imshow('result', r)\n",
    "\n",
    "cv2.waitKey()\n",
    "cv2.destroyAllWindows()"
   ]
  },
  {
   "cell_type": "markdown",
   "metadata": {},
   "source": [
    "## 6.礼帽操作\n",
    "\n",
    "- 礼帽图像或顶帽图像 = 原始图像 - 开运算图像，得到的是一个噪声图像\n",
    "    - 开运算：去除噪声\n",
    "    - 原图 - 开运算图像，保留的是原图中的噪声\n",
    "- 礼帽图像(img) = 原始图像(img) - 开运算（img）\n",
    "- 语法：result = cv2.morphologyEx(img, cv2.MORPH_TOPHAT, kernel)"
   ]
  },
  {
   "cell_type": "code",
   "execution_count": 23,
   "metadata": {},
   "outputs": [],
   "source": [
    "o = cv2.imread('image/addd/tophat.bmp', cv2.IMREAD_UNCHANGED)\n",
    "k = np.ones((5,5), np.uint8)\n",
    "r = cv2.morphologyEx(o, cv2.MORPH_TOPHAT, k)\n",
    "\n",
    "cv2.imshow('original', o)\n",
    "cv2.imshow('result', r)\n",
    "\n",
    "cv2.waitKey()\n",
    "cv2.destroyAllWindows()"
   ]
  },
  {
   "cell_type": "markdown",
   "metadata": {},
   "source": [
    "## 7.黑帽图像操作\n",
    "\n",
    "- 黑帽图像 = 闭运算图像 - 原始图像， 结果得到的是前景图像上的小孔或小黑点\n",
    "    - 闭运算去掉前景图像中的小孔或黑点\n",
    "    - 闭运算图像 - 原图，保留的是原图中前景图像上的小孔或黑点\n",
    "- 黑帽图像(img) = 闭运算(img) - 原始图像(img)\n",
    "- 语法：result = cv2.morphologyEx(img, cv2.MORPH_BLACKHAT, kernel)"
   ]
  },
  {
   "cell_type": "code",
   "execution_count": 26,
   "metadata": {},
   "outputs": [],
   "source": [
    "o = cv2.imread('image/addd/blackhat.bmp', cv2.IMREAD_UNCHANGED)\n",
    "k = np.ones((10,10), np.uint8)\n",
    "r = cv2.morphologyEx(o, cv2.MORPH_BLACKHAT, k)\n",
    "\n",
    "cv2.imshow('original', o)\n",
    "cv2.imshow('result', r)\n",
    "\n",
    "cv2.waitKey()\n",
    "cv2.destroyAllWindows()"
   ]
  },
  {
   "cell_type": "code",
   "execution_count": null,
   "metadata": {},
   "outputs": [],
   "source": []
  }
 ],
 "metadata": {
  "kernelspec": {
   "display_name": "Python 3",
   "language": "python",
   "name": "python3"
  },
  "language_info": {
   "codemirror_mode": {
    "name": "ipython",
    "version": 3
   },
   "file_extension": ".py",
   "mimetype": "text/x-python",
   "name": "python",
   "nbconvert_exporter": "python",
   "pygments_lexer": "ipython3",
   "version": "3.6.5"
  }
 },
 "nbformat": 4,
 "nbformat_minor": 2
}
