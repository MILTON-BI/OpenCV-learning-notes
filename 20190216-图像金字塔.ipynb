{
 "cells": [
  {
   "cell_type": "markdown",
   "metadata": {},
   "source": [
    "# 图像金字塔\n",
    "\n",
    "## 1.理论基础\n",
    "\n",
    "- 图像金字塔：同一图像中不同分辨率的子图集合\n",
    "- 生成图像金字塔\n",
    "    - 向下取样，缩小图像\n",
    "        - 从底层的G0进行采样，生成分辨率小一些的G1；再对G1取样，生成分别率更小一些的G2。。。这一组图像构成一个图像金字塔\n",
    "        - 从第i层获取第i+1层: Gi->Gi+1\n",
    "            - 第一步：对图像Gi进行高斯核卷积\n",
    "                - 参考高斯滤波\n",
    "            - 第二步：将卷积后的图像删除所有的偶数行和列，就得到原有图像大小的四分之一\n",
    "            - 上述操作被称为Octave\n",
    "            - 重复执行这两个步骤，构造成图像金字塔\n",
    "        - 每次向下采用均会丢失一些信息\n",
    "    - 向上取样，放大图像\n",
    "        - 从顶层G3开始不断放大，不断生成分辨率更大（像素更多）的图像，这组图像构成一个图像金字塔\n",
    "        - 步骤\n",
    "            - 在每个方向上扩大为原来的2倍，新增的行和列都以0填充\n",
    "            - 使用与向下采用同样的卷积核（高斯卷积核）乘以4，获取新增像素点的新值\n",
    "            - 重复上面步骤，构造成图像金字塔\n",
    "    - 向上取样和向下取样不是互逆操作；经过两种操作后，无法恢复原始图像\n",
    "        - 向下采样不断丢失信息，而向上采样并不能补充丢失的信息"
   ]
  },
  {
   "cell_type": "markdown",
   "metadata": {},
   "source": [
    "## 2. pyrDown（向下采样）函数及应用\n",
    "\n",
    "- 向下取样函数（缩小）pyrDown\n",
    "- 语法：dst = cv2.pyrDown(src)"
   ]
  },
  {
   "cell_type": "code",
   "execution_count": 2,
   "metadata": {},
   "outputs": [],
   "source": [
    "import cv2\n",
    "import numpy as np"
   ]
  },
  {
   "cell_type": "code",
   "execution_count": 5,
   "metadata": {},
   "outputs": [],
   "source": [
    "o = cv2.imread('image/lena.bmp', cv2.IMREAD_GRAYSCALE)\n",
    "r = cv2.pyrDown(o)\n",
    "r1 = cv2.pyrDown(r)\n",
    "r2 = cv2.pyrDown(r1)\n",
    "\n",
    "cv2.imshow('original', o)\n",
    "cv2.imshow('result', r)\n",
    "cv2.imshow('r1', r1)\n",
    "cv2.imshow('r2', r2)\n",
    "cv2.waitKey()\n",
    "cv2.destroyAllWindows()"
   ]
  },
  {
   "cell_type": "markdown",
   "metadata": {},
   "source": [
    "## 2. pyrUp（向上采样）函数及应用\n",
    "\n",
    "- - 语法：dst = cv2.pyrUp(src)"
   ]
  },
  {
   "cell_type": "code",
   "execution_count": 9,
   "metadata": {},
   "outputs": [],
   "source": [
    "o = cv2.imread('image/addd/p.bmp', cv2.IMREAD_GRAYSCALE)\n",
    "r = cv2.pyrUp(o)\n",
    "r1 = cv2.pyrUp(r)\n",
    "r2 = cv2.pyrUp(r1)\n",
    "\n",
    "cv2.imshow('original', o)\n",
    "cv2.imshow('result', r)\n",
    "cv2.imshow('r1', r1)\n",
    "cv2.imshow('r2', r2)\n",
    "cv2.waitKey()\n",
    "cv2.destroyAllWindows()"
   ]
  },
  {
   "cell_type": "markdown",
   "metadata": {},
   "source": [
    "## 3. 向上取样和向下取样的可逆性\n",
    "\n",
    "- 不可逆"
   ]
  },
  {
   "cell_type": "code",
   "execution_count": 13,
   "metadata": {},
   "outputs": [],
   "source": [
    "# 先向下取样，再向上取样\n",
    "o = cv2.imread('image/girl.bmp')\n",
    "down = cv2.pyrDown(o)\n",
    "up = cv2.pyrUp(down)\n",
    "diff = up - o\n",
    "\n",
    "cv2.imshow('original', o)\n",
    "# cv2.imshow('down', down)\n",
    "# cv2.imshow('up', up)\n",
    "cv2.imshow('diff', diff)\n",
    "cv2.waitKey()\n",
    "cv2.destroyAllWindows()"
   ]
  },
  {
   "cell_type": "code",
   "execution_count": 14,
   "metadata": {},
   "outputs": [],
   "source": [
    "# 先向上取样，再向下取样\n",
    "o = cv2.imread('image/girl.bmp')\n",
    "up = cv2.pyrUp(o)\n",
    "down = cv2.pyrDown(up)\n",
    "diff = down - o\n",
    "\n",
    "cv2.imshow('original', o)\n",
    "# cv2.imshow('up', up)\n",
    "# cv2.imshow('down', down)\n",
    "cv2.imshow('diff', diff)\n",
    "\n",
    "cv2.waitKey()\n",
    "cv2.destroyAllWindows()"
   ]
  },
  {
   "cell_type": "markdown",
   "metadata": {},
   "source": [
    "## 4. 拉普拉斯金字塔\n",
    "\n",
    "- 前面取样是使用高斯卷积核向上和向下取样，所以都可以称为高斯金字塔\n",
    "- 拉普拉斯金字塔是在高斯金字塔的基础上构造的图像金字塔\n",
    "- 语法：Li = Gi - pyrUp(pyrDown(Gi))\n",
    "    - Gi: 原始图像\n",
    "    - Li: 拉普拉斯金字塔图像\n",
    "    - pyrUp和pyrDown是使用高斯卷积核进行向上和向下取样"
   ]
  },
  {
   "cell_type": "code",
   "execution_count": 16,
   "metadata": {},
   "outputs": [],
   "source": [
    "o = cv2.imread('image/lena.bmp')\n",
    "od = cv2.pyrDown(o)\n",
    "odu = cv2.pyrUp(od)\n",
    "lappyr = o - odu\n",
    "\n",
    "oo = lappyr + odu\n",
    "\n",
    "cv2.imshow('original', o)\n",
    "cv2.imshow('od', od)\n",
    "cv2.imshow('odu', odu)\n",
    "cv2.imshow('lappyr', lappyr)\n",
    "cv2.imshow('origianlll', oo)\n",
    "\n",
    "cv2.waitKey()\n",
    "cv2.destroyAllWindows()"
   ]
  },
  {
   "cell_type": "code",
   "execution_count": 17,
   "metadata": {},
   "outputs": [],
   "source": [
    "o = cv2.imread('image/lena.bmp')\n",
    "\n",
    "# 计算拉普拉斯金字塔第0层\n",
    "od = cv2.pyrDown(o)\n",
    "odu = cv2.pyrUp(od)\n",
    "lappyr0 = o - odu\n",
    "\n",
    "# 计算拉普拉斯金字塔第1层\n",
    "o1 = od\n",
    "o1d = cv2.pyrDown(o1)\n",
    "o1du = cv2.pyrUp(o1d)\n",
    "lappyr1 = o1 - o1du\n",
    "\n",
    "cv2.imshow('original', o)\n",
    "cv2.imshow('od', od)\n",
    "cv2.imshow('odu', odu)\n",
    "cv2.imshow('lappyr0', lappyr0)\n",
    "\n",
    "cv2.imshow('o1d', o1d)\n",
    "cv2.imshow('o1du', o1du)\n",
    "cv2.imshow('lappyr1', lappyr1)\n",
    "\n",
    "cv2.waitKey()\n",
    "cv2.destroyAllWindows()"
   ]
  }
 ],
 "metadata": {
  "kernelspec": {
   "display_name": "Python 3",
   "language": "python",
   "name": "python3"
  },
  "language_info": {
   "codemirror_mode": {
    "name": "ipython",
    "version": 3
   },
   "file_extension": ".py",
   "mimetype": "text/x-python",
   "name": "python",
   "nbconvert_exporter": "python",
   "pygments_lexer": "ipython3",
   "version": "3.6.5"
  }
 },
 "nbformat": 4,
 "nbformat_minor": 2
}
